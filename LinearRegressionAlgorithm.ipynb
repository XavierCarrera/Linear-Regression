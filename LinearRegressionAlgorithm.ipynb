{
  "nbformat": 4,
  "nbformat_minor": 0,
  "metadata": {
    "colab": {
      "name": "LinearRegressionAlgorithm.ipynb",
      "provenance": [],
      "authorship_tag": "ABX9TyOSNBKtwrGk4wHFmruVhfCJ",
      "include_colab_link": true
    },
    "kernelspec": {
      "name": "python3",
      "display_name": "Python 3"
    }
  },
  "cells": [
    {
      "cell_type": "markdown",
      "metadata": {
        "id": "view-in-github",
        "colab_type": "text"
      },
      "source": [
        "<a href=\"https://colab.research.google.com/github/XavierCarrera/Linear-Regression/blob/master/LinearRegressionAlgorithm.ipynb\" target=\"_parent\"><img src=\"https://colab.research.google.com/assets/colab-badge.svg\" alt=\"Open In Colab\"/></a>"
      ]
    },
    {
      "cell_type": "code",
      "metadata": {
        "id": "1n76gWNDNvST",
        "colab_type": "code",
        "colab": {}
      },
      "source": [
        "import numpy as np\n",
        "import matplotlib.pyplot as plt"
      ],
      "execution_count": 6,
      "outputs": []
    },
    {
      "cell_type": "code",
      "metadata": {
        "id": "jYzTCdQ6zUSf",
        "colab_type": "code",
        "colab": {}
      },
      "source": [
        "def estimate_b0_b1(x, y):\n",
        "  n = np.size(x)\n",
        "\n",
        "  m_x, m_y = np.mean(x), np.mean(y)\n",
        "\n",
        "  Sum_xy = np.sum((x-m_x)*(y-m_y))\n",
        "  Sum_xx = np.sum(x*(x-m_x))\n",
        "\n",
        "  b_1 = Sumatoria_xy / Sumatoria_xx\n",
        "  b_0 = m_y - b_1*m_x\n",
        "\n",
        "  return(b_0, b_1)"
      ],
      "execution_count": 7,
      "outputs": []
    },
    {
      "cell_type": "code",
      "metadata": {
        "id": "fnjAupER1UMD",
        "colab_type": "code",
        "colab": {}
      },
      "source": [
        "def plot_regression(x, y, b):\n",
        "  plt.scatter(x, y, color = \"r\", marker = \"o\", s=30)\n",
        "\n",
        "  y_pred = b[0] + b[1]*x\n",
        "  plt.xlabel('X: Independent Variable')\n",
        "  plt.ylabel('Y: Dependient Variable')\n",
        "\n",
        "  plt.show()"
      ],
      "execution_count": 8,
      "outputs": []
    },
    {
      "cell_type": "code",
      "metadata": {
        "id": "PtbKV2aB2r2q",
        "colab_type": "code",
        "colab": {
          "base_uri": "https://localhost:8080/",
          "height": 296
        },
        "outputId": "9fcee760-a115-4e85-8b04-825484175298"
      },
      "source": [
        "def main():\n",
        "  \n",
        "  # Dataset\n",
        "  x = np.array([1,2,3,4,5])\n",
        "  y = np.array([2,3,5,6,5])\n",
        "\n",
        "  # B0 and B2 estimation\n",
        "\n",
        "  b = estimate_b0_b1(x, y)\n",
        "  print(\"Values b0 = {}, b1 ={}\".format(b[0], b[1]))\n",
        "\n",
        "  plot_regression(x, y, b)\n",
        "\n",
        "if __name__=='__main__':\n",
        "  main()"
      ],
      "execution_count": 13,
      "outputs": [
        {
          "output_type": "stream",
          "text": [
            "Values b0 = 0.9, b1 =1.5\n"
          ],
          "name": "stdout"
        },
        {
          "output_type": "display_data",
          "data": {
            "image/png": "[encoded data removed]",
            "text/plain": [
              "<Figure size 432x288 with 1 Axes>"
            ]
          },
          "metadata": {
            "tags": [],
            "needs_background": "light"
          }
        }
      ]
    }
  ]
}